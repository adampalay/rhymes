{
 "cells": [
  {
   "cell_type": "code",
   "execution_count": 42,
   "metadata": {
    "collapsed": false
   },
   "outputs": [],
   "source": [
    "import requests\n",
    "import string\n",
    "import os\n",
    "import itertools\n",
    "import nltk\n",
    "import networkx as nx\n",
    "# this allows you to plot in the notebook\n",
    "%matplotlib inline"
   ]
  },
  {
   "cell_type": "code",
   "execution_count": 43,
   "metadata": {
    "collapsed": true
   },
   "outputs": [],
   "source": [
    "def y_to_i(word):\n",
    "    if word.endswith('yre'):\n",
    "        return word[:-3] + 'ire'\n",
    "    return word"
   ]
  },
  {
   "cell_type": "code",
   "execution_count": 44,
   "metadata": {
    "collapsed": false
   },
   "outputs": [],
   "source": [
    "def get_rhymes(end_words, scheme='ababbcbcc'):\n",
    "    rhymes = []\n",
    "    a = []\n",
    "    b = []\n",
    "    c = []\n",
    "    for word, rhyme in zip(end_words, scheme):\n",
    "        if rhyme == 'a':\n",
    "            a.append(word)\n",
    "        if rhyme == 'b':\n",
    "            b.append(word)\n",
    "        if rhyme == 'c':\n",
    "            c.append(word)\n",
    "    for group in [a, b, c]:\n",
    "        for pair in itertools.combinations(group, 2):\n",
    "            rhymes.append(pair)\n",
    "    return rhymes\n"
   ]
  },
  {
   "cell_type": "code",
   "execution_count": 45,
   "metadata": {
    "collapsed": false
   },
   "outputs": [],
   "source": [
    "pairs = []\n",
    "for filename in os.listdir(\"texts/spenser/\"):\n",
    "    with open(\"texts/spenser/\" + filename) as f:\n",
    "        fq = f.read()\n",
    "        for stanza in fq.split(\"\\n\\n\"):\n",
    "            if len([line for line in stanza.split(\"\\n\") if line.strip()]) != 9:\n",
    "                continue\n",
    "            end_words = [line.strip(string.punctuation).split()[-1].lower() for line in stanza.split(\"\\n\")]\n",
    "            pairs.extend(get_rhymes(end_words))\n",
    "            \n",
    "    "
   ]
  },
  {
   "cell_type": "code",
   "execution_count": 46,
   "metadata": {
    "collapsed": false
   },
   "outputs": [],
   "source": [
    "G = nx.Graph()"
   ]
  },
  {
   "cell_type": "code",
   "execution_count": 47,
   "metadata": {
    "collapsed": false
   },
   "outputs": [],
   "source": [
    "clean_pairs = [(y_to_i(fst), y_to_i(snd)) for (fst, snd) in pairs]\n",
    "G.add_edges_from(clean_pairs)"
   ]
  },
  {
   "cell_type": "code",
   "execution_count": 48,
   "metadata": {
    "collapsed": false
   },
   "outputs": [
    {
     "data": {
      "text/plain": [
       "18997"
      ]
     },
     "execution_count": 48,
     "metadata": {},
     "output_type": "execute_result"
    }
   ],
   "source": [
    "G.size()"
   ]
  },
  {
   "cell_type": "code",
   "execution_count": 32,
   "metadata": {
    "collapsed": false
   },
   "outputs": [],
   "source": [
    "cfd = nltk.ConditionalFreqDist(clean_pairs)"
   ]
  },
  {
   "cell_type": "code",
   "execution_count": 55,
   "metadata": {
    "collapsed": false
   },
   "outputs": [
    {
     "data": {
      "text/plain": [
       "{'desire', 'entire'}"
      ]
     },
     "execution_count": 55,
     "metadata": {},
     "output_type": "execute_result"
    }
   ],
   "source": [
    "print len(G.neighbors('ire'))\n",
    "print len(G.neighbors('meed'))\n",
    "print set(G.neighbors('ire')) & set(G.neighbors('meed'))"
   ]
  },
  {
   "cell_type": "code",
   "execution_count": null,
   "metadata": {
    "collapsed": false
   },
   "outputs": [],
   "source": []
  },
  {
   "cell_type": "code",
   "execution_count": null,
   "metadata": {
    "collapsed": false
   },
   "outputs": [],
   "source": []
  },
  {
   "cell_type": "code",
   "execution_count": null,
   "metadata": {
    "collapsed": true
   },
   "outputs": [],
   "source": []
  }
 ],
 "metadata": {
  "kernelspec": {
   "display_name": "Python 2",
   "language": "python",
   "name": "python2"
  },
  "language_info": {
   "codemirror_mode": {
    "name": "ipython",
    "version": 2
   },
   "file_extension": ".py",
   "mimetype": "text/x-python",
   "name": "python",
   "nbconvert_exporter": "python",
   "pygments_lexer": "ipython2",
   "version": "2.7.6"
  }
 },
 "nbformat": 4,
 "nbformat_minor": 0
}
