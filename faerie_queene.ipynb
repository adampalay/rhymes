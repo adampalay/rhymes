{
 "cells": [
  {
   "cell_type": "code",
   "execution_count": 1,
   "metadata": {
    "collapsed": false
   },
   "outputs": [],
   "source": [
    "import requests\n",
    "import string\n",
    "import os\n",
    "import itertools\n",
    "import nltk\n",
    "# this allows you to plot in the notebook\n",
    "%matplotlib inline"
   ]
  },
  {
   "cell_type": "code",
   "execution_count": 110,
   "metadata": {
    "collapsed": true
   },
   "outputs": [],
   "source": [
    "def y_to_i(word):\n",
    "    if word.endswith('yre'):\n",
    "        return word[:-3] + 'ire'\n",
    "    return word"
   ]
  },
  {
   "cell_type": "code",
   "execution_count": 111,
   "metadata": {
    "collapsed": false
   },
   "outputs": [],
   "source": [
    "def get_rhymes(end_words, scheme='ababbcbcc'):\n",
    "    rhymes = []\n",
    "    a = []\n",
    "    b = []\n",
    "    c = []\n",
    "    for word, rhyme in zip(end_words, scheme):\n",
    "        if rhyme == 'a':\n",
    "            a.append(word)\n",
    "        if rhyme == 'b':\n",
    "            b.append(word)\n",
    "        if rhyme == 'c':\n",
    "            c.append(word)\n",
    "    for group in [a, b, c]:\n",
    "        for pair in itertools.combinations(group, 2):\n",
    "            rhymes.append(pair)\n",
    "    return rhymes\n"
   ]
  },
  {
   "cell_type": "code",
   "execution_count": 112,
   "metadata": {
    "collapsed": false
   },
   "outputs": [],
   "source": [
    "pairs = []\n",
    "for filename in os.listdir(\"texts/spenser/\"):\n",
    "    with open(\"texts/spenser/\" + filename) as f:\n",
    "        fq = f.read()\n",
    "        for stanza in fq.split(\"\\n\\n\"):\n",
    "            if len([line for line in stanza.split(\"\\n\") if line.strip()]) != 9:\n",
    "                continue\n",
    "            end_words = [line.strip(string.punctuation).split()[-1].lower() for line in stanza.split(\"\\n\")]\n",
    "            pairs.extend(get_rhymes(end_words))\n",
    "            \n",
    "    "
   ]
  },
  {
   "cell_type": "code",
   "execution_count": 113,
   "metadata": {
    "collapsed": false
   },
   "outputs": [],
   "source": [
    "fd = nltk.FreqDist(pairs)"
   ]
  },
  {
   "cell_type": "code",
   "execution_count": 114,
   "metadata": {
    "collapsed": false
   },
   "outputs": [],
   "source": [
    "# fd.most_common()"
   ]
  },
  {
   "cell_type": "code",
   "execution_count": 115,
   "metadata": {
    "collapsed": false
   },
   "outputs": [],
   "source": [
    "import networkx as nx"
   ]
  },
  {
   "cell_type": "code",
   "execution_count": 116,
   "metadata": {
    "collapsed": false
   },
   "outputs": [],
   "source": [
    "\n",
    "G = nx.Graph()"
   ]
  },
  {
   "cell_type": "code",
   "execution_count": 117,
   "metadata": {
    "collapsed": false
   },
   "outputs": [],
   "source": [
    "clean_pairs = [(y_to_i(fst), y_to_i(snd)) for (fst, snd) in pairs]\n",
    "G.add_edges_from(clean_pairs)"
   ]
  },
  {
   "cell_type": "code",
   "execution_count": 118,
   "metadata": {
    "collapsed": false
   },
   "outputs": [
    {
     "data": {
      "text/plain": [
       "18997"
      ]
     },
     "execution_count": 118,
     "metadata": {},
     "output_type": "execute_result"
    }
   ],
   "source": [
    "G.size()"
   ]
  },
  {
   "cell_type": "code",
   "execution_count": 119,
   "metadata": {
    "collapsed": false
   },
   "outputs": [],
   "source": [
    "cfd = nltk.ConditionalFreqDist(pairs)"
   ]
  },
  {
   "cell_type": "code",
   "execution_count": 120,
   "metadata": {
    "collapsed": false
   },
   "outputs": [
    {
     "data": {
      "text/plain": [
       "[('vnseene', 1),\n",
       " ('weene', 2),\n",
       " ('beseene', 3),\n",
       " ('sustene', 1),\n",
       " ('teene', 1),\n",
       " ('greene', 2),\n",
       " ('sheene', 2),\n",
       " ('bene', 1),\n",
       " ('cleene', 1),\n",
       " ('seene', 8),\n",
       " ('shene', 1),\n",
       " ('beene', 6)]"
      ]
     },
     "execution_count": 120,
     "metadata": {},
     "output_type": "execute_result"
    }
   ],
   "source": [
    "cfd['queene'].items()"
   ]
  },
  {
   "cell_type": "code",
   "execution_count": 121,
   "metadata": {
    "collapsed": false
   },
   "outputs": [
    {
     "name": "stdout",
     "output_type": "stream",
     "text": [
      "('eye', FreqDist({'hye': 7, 'by': 4, 'dye': 3, 'fly': 3, 'maiestie': 2, 'skye': 2, 'enuye': 2, 'melancholy': 2, 'thereby': 2, 'company': 2, ...}))\n"
     ]
    }
   ],
   "source": [
    "print max([(key, cfd[key]) for key in cfd], key=lambda x: len(x[1]))\n",
    "    "
   ]
  },
  {
   "cell_type": "code",
   "execution_count": 122,
   "metadata": {
    "collapsed": false
   },
   "outputs": [],
   "source": [
    "# G.neighbors('beene')"
   ]
  },
  {
   "cell_type": "code",
   "execution_count": 123,
   "metadata": {
    "collapsed": false
   },
   "outputs": [
    {
     "data": {
      "text/plain": [
       "[('eye', 99),\n",
       " ('bee', 85),\n",
       " ('see', 78),\n",
       " ('went', 76),\n",
       " ('fly', 73),\n",
       " ('intent', 65),\n",
       " ('apply', 65),\n",
       " ('red', 63),\n",
       " ('side', 60),\n",
       " ('thereby', 57)]"
      ]
     },
     "execution_count": 123,
     "metadata": {},
     "output_type": "execute_result"
    }
   ],
   "source": [
    "sorted(nx.degree(G).items(), key=lambda x: -x[1])[:10]"
   ]
  },
  {
   "cell_type": "code",
   "execution_count": 124,
   "metadata": {
    "collapsed": false
   },
   "outputs": [],
   "source": [
    "for graph in nx.connected_component_subgraphs(G):\n",
    "    break"
   ]
  },
  {
   "cell_type": "code",
   "execution_count": 125,
   "metadata": {
    "collapsed": false
   },
   "outputs": [
    {
     "name": "stdout",
     "output_type": "stream",
     "text": [
      "limited 4\n",
      "bed 22\n",
      "dread 11\n",
      "speed 18\n",
      "meed 13\n",
      "ire 13\n",
      "inquire 11\n",
      "heare 23\n",
      "neare 25\n",
      "few 5\n",
      "vntrew 13\n",
      "shew 23\n",
      "lowe 2\n",
      "foe 18\n",
      "out-goe 2\n"
     ]
    }
   ],
   "source": [
    "for word in nx.shortest_path(G, 'limited', 'out-goe'):\n",
    "    print word, len(cfd[word].items())"
   ]
  },
  {
   "cell_type": "code",
   "execution_count": 126,
   "metadata": {
    "collapsed": false
   },
   "outputs": [],
   "source": [
    "# nx.draw_networkx(graph)"
   ]
  },
  {
   "cell_type": "code",
   "execution_count": 127,
   "metadata": {
    "collapsed": false
   },
   "outputs": [
    {
     "data": {
      "text/plain": [
       "1615"
      ]
     },
     "execution_count": 127,
     "metadata": {},
     "output_type": "execute_result"
    }
   ],
   "source": [
    "len(graph)"
   ]
  },
  {
   "cell_type": "code",
   "execution_count": 128,
   "metadata": {
    "collapsed": false
   },
   "outputs": [],
   "source": [
    "import itertools\n",
    "m = set(itertools.chain(*[c for c in nx.find_cliques(graph) if 'meed' in c]))\n",
    "a = set(itertools.chain(*[c for c in nx.find_cliques(graph) if 'ire' in c]))\n",
    "e = set(itertools.chain(*[c for c in nx.find_cliques(graph) if 'attire' in c]))"
   ]
  },
  {
   "cell_type": "code",
   "execution_count": 129,
   "metadata": {
    "collapsed": false
   },
   "outputs": [
    {
     "data": {
      "text/plain": [
       "{'desire', 'entire', 'ire', 'meed'}"
      ]
     },
     "execution_count": 129,
     "metadata": {},
     "output_type": "execute_result"
    }
   ],
   "source": [
    "m & a"
   ]
  },
  {
   "cell_type": "code",
   "execution_count": 130,
   "metadata": {
    "collapsed": false
   },
   "outputs": [
    {
     "data": {
      "text/plain": [
       "{'attire',\n",
       " 'desire',\n",
       " 'enquire',\n",
       " 'entire',\n",
       " 'expire',\n",
       " 'fire',\n",
       " 'hire',\n",
       " 'inquire',\n",
       " 'inspire',\n",
       " 'ire',\n",
       " 'mire',\n",
       " 'require',\n",
       " 'sire',\n",
       " 'squire',\n",
       " 'stire',\n",
       " 'tire'}"
      ]
     },
     "execution_count": 130,
     "metadata": {},
     "output_type": "execute_result"
    }
   ],
   "source": [
    "a & e"
   ]
  },
  {
   "cell_type": "code",
   "execution_count": 133,
   "metadata": {
    "collapsed": false
   },
   "outputs": [],
   "source": [
    "yre_set = set(itertools.chain(*[c for c in nx.find_cliques(graph) if 'ire' in c]))\n",
    "rhymes = {}\n",
    "for word in yre_set:\n",
    "    word_set = set(itertools.chain(*[c for c in nx.find_cliques(graph) if word in c]))\n",
    "    rhymes[word] = len(word_set & yre_set)"
   ]
  },
  {
   "cell_type": "code",
   "execution_count": 134,
   "metadata": {
    "collapsed": false
   },
   "outputs": [
    {
     "name": "stdout",
     "output_type": "stream",
     "text": [
      "25\n",
      "25\n",
      "26\n",
      "27\n"
     ]
    }
   ],
   "source": [
    "print len(graph['ire'].keys())\n",
    "print len(graph['fire'].keys())\n",
    "print len(graph['desire'].keys())\n",
    "print len(graph['meed'].keys())\n"
   ]
  },
  {
   "cell_type": "code",
   "execution_count": 135,
   "metadata": {
    "collapsed": true
   },
   "outputs": [],
   "source": [
    "yre_set = set(itertools.chain(*[c for c in nx.find_cliques(graph) if 'ire' in c]))"
   ]
  },
  {
   "cell_type": "code",
   "execution_count": 140,
   "metadata": {
    "collapsed": false
   },
   "outputs": [
    {
     "data": {
      "text/plain": [
       "[('copper-wire', 3),\n",
       " ('shire', 4),\n",
       " ('dire', 4),\n",
       " ('meed', 4),\n",
       " ('gire', 5),\n",
       " ('conspire', 7),\n",
       " ('enquire', 7),\n",
       " ('tire', 8),\n",
       " ('inspire', 10),\n",
       " ('stire', 10),\n",
       " ('admire', 10),\n",
       " ('respire', 12),\n",
       " ('expire', 13),\n",
       " ('aspire', 13),\n",
       " ('retire', 14),\n",
       " ('inquire', 14),\n",
       " ('squire', 16),\n",
       " ('attire', 16),\n",
       " ('mire', 16),\n",
       " ('require', 16),\n",
       " ('sire', 17),\n",
       " ('entire', 17),\n",
       " ('hire', 17),\n",
       " ('desire', 21),\n",
       " ('fire', 24),\n",
       " ('ire', 26)]"
      ]
     },
     "execution_count": 140,
     "metadata": {},
     "output_type": "execute_result"
    }
   ],
   "source": [
    "sorted(rhymes.items(), key=lambda x: x[1])"
   ]
  },
  {
   "cell_type": "code",
   "execution_count": null,
   "metadata": {
    "collapsed": true
   },
   "outputs": [],
   "source": []
  }
 ],
 "metadata": {
  "kernelspec": {
   "display_name": "Python 2",
   "language": "python",
   "name": "python2"
  },
  "language_info": {
   "codemirror_mode": {
    "name": "ipython",
    "version": 2
   },
   "file_extension": ".py",
   "mimetype": "text/x-python",
   "name": "python",
   "nbconvert_exporter": "python",
   "pygments_lexer": "ipython2",
   "version": "2.7.6"
  }
 },
 "nbformat": 4,
 "nbformat_minor": 0
}
