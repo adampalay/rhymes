{
 "cells": [
  {
   "cell_type": "code",
   "execution_count": 6,
   "metadata": {
    "collapsed": false
   },
   "outputs": [],
   "source": [
    "import requests\n",
    "import string\n",
    "import os\n",
    "import itertools\n",
    "import nltk\n",
    "# this allows you to plot in the notebook\n",
    "%matplotlib inline"
   ]
  },
  {
   "cell_type": "code",
   "execution_count": 7,
   "metadata": {
    "collapsed": false
   },
   "outputs": [],
   "source": [
    "def get_rhymes(end_words, scheme='ababbcbcc'):\n",
    "    rhymes = []\n",
    "    a = []\n",
    "    b = []\n",
    "    c = []\n",
    "    for word, rhyme in zip(end_words, scheme):\n",
    "        if rhyme == 'a':\n",
    "            a.append(word)\n",
    "        if rhyme == 'b':\n",
    "            b.append(word)\n",
    "        if rhyme == 'c':\n",
    "            c.append(word)\n",
    "    for group in [a, b, c]:\n",
    "        for pair in itertools.combinations(group, 2):\n",
    "            rhymes.append(pair)\n",
    "    return rhymes\n"
   ]
  },
  {
   "cell_type": "code",
   "execution_count": 8,
   "metadata": {
    "collapsed": false
   },
   "outputs": [],
   "source": [
    "pairs = []\n",
    "for filename in os.listdir(\"texts/spenser/\"):\n",
    "    with open(\"texts/spenser/\" + filename) as f:\n",
    "        fq = f.read()\n",
    "        for stanza in fq.split(\"\\n\\n\"):\n",
    "            if len(stanza.split(\"\\n\")) != 9:\n",
    "                continue\n",
    "            end_words = [line.strip(string.punctuation).split()[-1] for line in stanza.split(\"\\n\")]\n",
    "            pairs.extend(get_rhymes(end_words))\n",
    "            \n",
    "    "
   ]
  },
  {
   "cell_type": "code",
   "execution_count": 9,
   "metadata": {
    "collapsed": false
   },
   "outputs": [
    {
     "data": {
      "text/plain": [
       "FreqDist({('bee', 'see'): 54, ('see', 'bee'): 46, ('might', 'fight'): 39, ('was', 'pas'): 35, ('found', 'ground'): 34, ('hand', 'land'): 28, ('hart', 'smart'): 28, ('knight', 'might'): 26, ('place', 'grace'): 26, ('way', 'lay'): 26, ...})"
      ]
     },
     "execution_count": 9,
     "metadata": {},
     "output_type": "execute_result"
    }
   ],
   "source": [
    "nltk.FreqDist(pairs)"
   ]
  },
  {
   "cell_type": "code",
   "execution_count": 13,
   "metadata": {
    "collapsed": false
   },
   "outputs": [
    {
     "data": {
      "image/png": "[encoded data removed]",
      "text/plain": [
       "<matplotlib.figure.Figure at 0x113ceed10>"
      ]
     },
     "metadata": {},
     "output_type": "display_data"
    }
   ],
   "source": [
    "nltk.ConditionalFreqDist(pairs)['see'].plot()"
   ]
  },
  {
   "cell_type": "code",
   "execution_count": null,
   "metadata": {
    "collapsed": false
   },
   "outputs": [],
   "source": []
  },
  {
   "cell_type": "code",
   "execution_count": 84,
   "metadata": {
    "collapsed": false
   },
   "outputs": [],
   "source": []
  },
  {
   "cell_type": "code",
   "execution_count": null,
   "metadata": {
    "collapsed": false
   },
   "outputs": [],
   "source": []
  }
 ],
 "metadata": {
  "kernelspec": {
   "display_name": "Python 2",
   "language": "python",
   "name": "python2"
  },
  "language_info": {
   "codemirror_mode": {
    "name": "ipython",
    "version": 2
   },
   "file_extension": ".py",
   "mimetype": "text/x-python",
   "name": "python",
   "nbconvert_exporter": "python",
   "pygments_lexer": "ipython2",
   "version": "2.7.6"
  }
 },
 "nbformat": 4,
 "nbformat_minor": 0
}
